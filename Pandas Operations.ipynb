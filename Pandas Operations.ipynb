{
 "cells": [
  {
   "cell_type": "code",
   "execution_count": 4,
   "metadata": {},
   "outputs": [],
   "source": [
    "import pandas as pd"
   ]
  },
  {
   "cell_type": "markdown",
   "metadata": {},
   "source": [
    "## Pandas Basic Operations"
   ]
  },
  {
   "cell_type": "markdown",
   "metadata": {},
   "source": [
    "### How to create a dataframe?"
   ]
  },
  {
   "cell_type": "code",
   "execution_count": 3,
   "metadata": {},
   "outputs": [
    {
     "name": "stdout",
     "output_type": "stream",
     "text": [
      "   Product ID Product Name  Color\n",
      "0           1        shirt   blue\n",
      "1           2          top  green\n",
      "2           3        shoes    red\n",
      "3           4        skirt  black\n"
     ]
    }
   ],
   "source": [
    "#Method 1\n",
    "df1 = pd.DataFrame({\n",
    "  'Product ID': [1, 2, 3, 4],\n",
    "  'Product Name': ['shirt','top','shoes','skirt'],\n",
    "  'Color': [\"blue\",\"green\",\"red\",\"black\"]\n",
    "})\n",
    "\n",
    "print(df1)"
   ]
  },
  {
   "cell_type": "code",
   "execution_count": 4,
   "metadata": {},
   "outputs": [
    {
     "name": "stdout",
     "output_type": "stream",
     "text": [
      "   Store ID       Location  Number of Employees\n",
      "0         1      San Diego                  100\n",
      "1         2    Los Angeles                  120\n",
      "2         3  San Francisco                   90\n",
      "3         4     Sacramento                  115\n"
     ]
    }
   ],
   "source": [
    "#Method 2\n",
    "df2 = pd.DataFrame([\n",
    "  [1, 'San Diego', 100],\n",
    "  [2, 'Los Angeles', 120],\n",
    "  [3, 'San Francisco', 90],\n",
    "  [4, 'Sacramento', 115]\n",
    "],\n",
    "  columns=[\n",
    "    'Store ID', 'Location', 'Number of Employees'\n",
    "  ])\n",
    "\n",
    "print(df2)"
   ]
  },
  {
   "cell_type": "markdown",
   "metadata": {},
   "source": [
    "### How to select column(s)?"
   ]
  },
  {
   "cell_type": "code",
   "execution_count": 10,
   "metadata": {},
   "outputs": [
    {
     "name": "stdout",
     "output_type": "stream",
     "text": [
      "0        San Diego\n",
      "1      Los Angeles\n",
      "2    San Francisco\n",
      "3       Sacramento\n",
      "Name: Location, dtype: object\n",
      "<class 'pandas.core.series.Series'>\n"
     ]
    }
   ],
   "source": [
    "location = df2['Location']\n",
    "print(location)\n",
    "print(type(location))"
   ]
  },
  {
   "cell_type": "code",
   "execution_count": 11,
   "metadata": {},
   "outputs": [
    {
     "name": "stdout",
     "output_type": "stream",
     "text": [
      "        Location\n",
      "0      San Diego\n",
      "1    Los Angeles\n",
      "2  San Francisco\n",
      "3     Sacramento\n",
      "<class 'pandas.core.frame.DataFrame'>\n"
     ]
    }
   ],
   "source": [
    "location1 = df2[['Location']]\n",
    "print(location1)\n",
    "print(type(location1))"
   ]
  },
  {
   "cell_type": "code",
   "execution_count": 12,
   "metadata": {},
   "outputs": [
    {
     "name": "stdout",
     "output_type": "stream",
     "text": [
      "        Location  Number of Employees\n",
      "0      San Diego                  100\n",
      "1    Los Angeles                  120\n",
      "2  San Francisco                   90\n",
      "3     Sacramento                  115\n",
      "<class 'pandas.core.frame.DataFrame'>\n"
     ]
    }
   ],
   "source": [
    "mutliplecolumns = df2[['Location','Number of Employees']]\n",
    "print(mutliplecolumns)\n",
    "print(type(mutliplecolumns))"
   ]
  },
  {
   "cell_type": "markdown",
   "metadata": {},
   "source": [
    "### How to select row(s)?"
   ]
  },
  {
   "cell_type": "code",
   "execution_count": 16,
   "metadata": {},
   "outputs": [
    {
     "data": {
      "text/plain": [
       "Product ID          3\n",
       "Product Name    shoes\n",
       "Color             red\n",
       "Name: 2, dtype: object"
      ]
     },
     "execution_count": 16,
     "metadata": {},
     "output_type": "execute_result"
    }
   ],
   "source": [
    "#iloc is Integer-location based indexing for selection by position.\n",
    "df1.iloc[2] #https://pandas.pydata.org/pandas-docs/stable/reference/api/pandas.DataFrame.iloc.html"
   ]
  },
  {
   "cell_type": "code",
   "execution_count": 17,
   "metadata": {},
   "outputs": [
    {
     "data": {
      "text/html": [
       "<div>\n",
       "<style scoped>\n",
       "    .dataframe tbody tr th:only-of-type {\n",
       "        vertical-align: middle;\n",
       "    }\n",
       "\n",
       "    .dataframe tbody tr th {\n",
       "        vertical-align: top;\n",
       "    }\n",
       "\n",
       "    .dataframe thead th {\n",
       "        text-align: right;\n",
       "    }\n",
       "</style>\n",
       "<table border=\"1\" class=\"dataframe\">\n",
       "  <thead>\n",
       "    <tr style=\"text-align: right;\">\n",
       "      <th></th>\n",
       "      <th>Product ID</th>\n",
       "      <th>Product Name</th>\n",
       "      <th>Color</th>\n",
       "    </tr>\n",
       "  </thead>\n",
       "  <tbody>\n",
       "    <tr>\n",
       "      <th>2</th>\n",
       "      <td>3</td>\n",
       "      <td>shoes</td>\n",
       "      <td>red</td>\n",
       "    </tr>\n",
       "  </tbody>\n",
       "</table>\n",
       "</div>"
      ],
      "text/plain": [
       "   Product ID Product Name Color\n",
       "2           3        shoes   red"
      ]
     },
     "execution_count": 17,
     "metadata": {},
     "output_type": "execute_result"
    }
   ],
   "source": [
    "df1.iloc[2:3]"
   ]
  },
  {
   "cell_type": "code",
   "execution_count": 14,
   "metadata": {},
   "outputs": [
    {
     "data": {
      "text/html": [
       "<div>\n",
       "<style scoped>\n",
       "    .dataframe tbody tr th:only-of-type {\n",
       "        vertical-align: middle;\n",
       "    }\n",
       "\n",
       "    .dataframe tbody tr th {\n",
       "        vertical-align: top;\n",
       "    }\n",
       "\n",
       "    .dataframe thead th {\n",
       "        text-align: right;\n",
       "    }\n",
       "</style>\n",
       "<table border=\"1\" class=\"dataframe\">\n",
       "  <thead>\n",
       "    <tr style=\"text-align: right;\">\n",
       "      <th></th>\n",
       "      <th>Store ID</th>\n",
       "      <th>Location</th>\n",
       "      <th>Number of Employees</th>\n",
       "    </tr>\n",
       "  </thead>\n",
       "  <tbody>\n",
       "    <tr>\n",
       "      <th>2</th>\n",
       "      <td>3</td>\n",
       "      <td>San Francisco</td>\n",
       "      <td>90</td>\n",
       "    </tr>\n",
       "    <tr>\n",
       "      <th>3</th>\n",
       "      <td>4</td>\n",
       "      <td>Sacramento</td>\n",
       "      <td>115</td>\n",
       "    </tr>\n",
       "  </tbody>\n",
       "</table>\n",
       "</div>"
      ],
      "text/plain": [
       "   Store ID       Location  Number of Employees\n",
       "2         3  San Francisco                   90\n",
       "3         4     Sacramento                  115"
      ]
     },
     "execution_count": 14,
     "metadata": {},
     "output_type": "execute_result"
    }
   ],
   "source": [
    "df2.iloc[2:]"
   ]
  },
  {
   "cell_type": "markdown",
   "metadata": {},
   "source": [
    "### How to select rows with logic?"
   ]
  },
  {
   "cell_type": "code",
   "execution_count": 20,
   "metadata": {},
   "outputs": [
    {
     "name": "stdout",
     "output_type": "stream",
     "text": [
      "   Store ID    Location  Number of Employees\n",
      "3         4  Sacramento                  115\n"
     ]
    }
   ],
   "source": [
    "Sacramento = df2[df2.Location == 'Sacramento']\n",
    "print(Sacramento)"
   ]
  },
  {
   "cell_type": "code",
   "execution_count": 23,
   "metadata": {},
   "outputs": [
    {
     "name": "stdout",
     "output_type": "stream",
     "text": [
      "   Store ID       Location  Number of Employees\n",
      "2         3  San Francisco                   90\n",
      "3         4     Sacramento                  115\n"
     ]
    }
   ],
   "source": [
    "Sacramento_SF = df2[(df2.Location == 'Sacramento') | (df2.Location == 'San Francisco')]\n",
    "print(Sacramento_SF)"
   ]
  },
  {
   "cell_type": "code",
   "execution_count": 25,
   "metadata": {},
   "outputs": [
    {
     "name": "stdout",
     "output_type": "stream",
     "text": [
      "   Store ID       Location  Number of Employees\n",
      "2         3  San Francisco                   90\n",
      "3         4     Sacramento                  115\n"
     ]
    }
   ],
   "source": [
    "Sacramento_SF2 = df2[df2.Location.isin(['Sacramento','San Francisco'])]\n",
    "print(Sacramento_SF2)"
   ]
  },
  {
   "cell_type": "markdown",
   "metadata": {},
   "source": [
    "### How to reset index in a dataframe?"
   ]
  },
  {
   "cell_type": "code",
   "execution_count": 38,
   "metadata": {},
   "outputs": [
    {
     "data": {
      "text/html": [
       "<div>\n",
       "<style scoped>\n",
       "    .dataframe tbody tr th:only-of-type {\n",
       "        vertical-align: middle;\n",
       "    }\n",
       "\n",
       "    .dataframe tbody tr th {\n",
       "        vertical-align: top;\n",
       "    }\n",
       "\n",
       "    .dataframe thead th {\n",
       "        text-align: right;\n",
       "    }\n",
       "</style>\n",
       "<table border=\"1\" class=\"dataframe\">\n",
       "  <thead>\n",
       "    <tr style=\"text-align: right;\">\n",
       "      <th></th>\n",
       "      <th>Store ID</th>\n",
       "      <th>Location</th>\n",
       "      <th>Number of Employees</th>\n",
       "    </tr>\n",
       "  </thead>\n",
       "  <tbody>\n",
       "    <tr>\n",
       "      <th>1</th>\n",
       "      <td>2</td>\n",
       "      <td>Los Angeles</td>\n",
       "      <td>120</td>\n",
       "    </tr>\n",
       "    <tr>\n",
       "      <th>3</th>\n",
       "      <td>4</td>\n",
       "      <td>Sacramento</td>\n",
       "      <td>115</td>\n",
       "    </tr>\n",
       "  </tbody>\n",
       "</table>\n",
       "</div>"
      ],
      "text/plain": [
       "   Store ID     Location  Number of Employees\n",
       "1         2  Los Angeles                  120\n",
       "3         4   Sacramento                  115"
      ]
     },
     "execution_count": 38,
     "metadata": {},
     "output_type": "execute_result"
    }
   ],
   "source": [
    "df3 = df2.loc[[1, 3]]\n",
    "df3"
   ]
  },
  {
   "cell_type": "code",
   "execution_count": 39,
   "metadata": {},
   "outputs": [
    {
     "name": "stdout",
     "output_type": "stream",
     "text": [
      "   index  Store ID     Location  Number of Employees\n",
      "0      1         2  Los Angeles                  120\n",
      "1      3         4   Sacramento                  115\n"
     ]
    }
   ],
   "source": [
    "df3 = df3.reset_index()\n",
    "print(df3)"
   ]
  },
  {
   "cell_type": "code",
   "execution_count": 42,
   "metadata": {},
   "outputs": [
    {
     "name": "stdout",
     "output_type": "stream",
     "text": [
      "   Store ID     Location  Number of Employees\n",
      "0         2  Los Angeles                  120\n",
      "1         4   Sacramento                  115\n"
     ]
    }
   ],
   "source": [
    "df4 = df2.loc[[1, 3]]\n",
    "df4.reset_index(inplace = True, drop = True)\n",
    "print(df4)"
   ]
  },
  {
   "cell_type": "markdown",
   "metadata": {},
   "source": [
    "### How to add columns in dataframe?"
   ]
  },
  {
   "cell_type": "code",
   "execution_count": 43,
   "metadata": {},
   "outputs": [
    {
     "name": "stdout",
     "output_type": "stream",
     "text": [
      "   Product ID Product Name  Color isAvailable\n",
      "0           1        shirt   blue         Yes\n",
      "1           2          top  green         Yes\n",
      "2           3        shoes    red         Yes\n",
      "3           4        skirt  black         Yes\n"
     ]
    }
   ],
   "source": [
    "df1['isAvailable'] = 'Yes'\n",
    "print(df1)"
   ]
  },
  {
   "cell_type": "code",
   "execution_count": 63,
   "metadata": {},
   "outputs": [
    {
     "name": "stdout",
     "output_type": "stream",
     "text": [
      "   Store ID       Location  Number of Employees Visited\n",
      "0         1      San Diego                  100     Yes\n",
      "1         2    Los Angeles                  120     Yes\n",
      "2         3  San Francisco                   90     Yes\n",
      "3         4     Sacramento                  115      No\n"
     ]
    }
   ],
   "source": [
    "df2['Visited'] = ['Yes','Yes','Yes','No']\n",
    "print(df2)"
   ]
  },
  {
   "cell_type": "code",
   "execution_count": 45,
   "metadata": {},
   "outputs": [
    {
     "name": "stdout",
     "output_type": "stream",
     "text": [
      "   Product ID Product Name  Cost  Price  Revenue\n",
      "0           1       bottle   0.5   0.75     0.25\n",
      "1           2          cup   0.1   0.25     0.15\n",
      "2           3        plate   3.0   5.50     2.50\n",
      "3           4        glass   2.5   3.00     0.50\n"
     ]
    }
   ],
   "source": [
    "df = pd.DataFrame([\n",
    "  [1, 'bottle', 0.5, 0.75],\n",
    "  [2, 'cup', 0.10, 0.25],\n",
    "  [3, 'plate', 3.00, 5.50],\n",
    "  [4, 'glass', 2.50, 3.00]\n",
    "],\n",
    "  columns=['Product ID', 'Product Name', 'Cost', 'Price']\n",
    ")\n",
    "df['Revenue'] = df['Price'] - df['Cost']\n",
    "print(df)"
   ]
  },
  {
   "cell_type": "markdown",
   "metadata": {},
   "source": [
    "### How to apply lambda function to a column?"
   ]
  },
  {
   "cell_type": "code",
   "execution_count": 46,
   "metadata": {},
   "outputs": [
    {
     "name": "stdout",
     "output_type": "stream",
     "text": [
      "   Product ID Product Name  Cost  Price  Revenue\n",
      "0           1       Bottle   0.5   0.75     0.25\n",
      "1           2          Cup   0.1   0.25     0.15\n",
      "2           3        Plate   3.0   5.50     2.50\n",
      "3           4        Glass   2.5   3.00     0.50\n"
     ]
    }
   ],
   "source": [
    "capitalize_first_letter = lambda x: x.capitalize()\n",
    "df['Product Name'] = df['Product Name'].apply(capitalize_first_letter)\n",
    "print(df)"
   ]
  },
  {
   "cell_type": "markdown",
   "metadata": {},
   "source": [
    "### How to apply lambda function to a row?"
   ]
  },
  {
   "cell_type": "code",
   "execution_count": 54,
   "metadata": {},
   "outputs": [
    {
     "name": "stdout",
     "output_type": "stream",
     "text": [
      "   Product ID Product Name  Cost  Price  Revenue  Revenue2\n",
      "0           1       Bottle   0.5   0.75     0.25      0.25\n",
      "1           2          Cup   0.1   0.25     0.15      0.15\n",
      "2           3        Plate   3.0   5.50     2.50      2.50\n",
      "3           4        Glass   2.5   3.00     0.50      0.50\n"
     ]
    }
   ],
   "source": [
    "revenue_using_lambda = lambda row: row.Price - row.Cost\n",
    "df['Revenue2']=df.apply(revenue_using_lambda,axis=1)\n",
    "print(df)"
   ]
  },
  {
   "cell_type": "markdown",
   "metadata": {},
   "source": [
    "### How to drop column(s) in a dataframe?"
   ]
  },
  {
   "cell_type": "code",
   "execution_count": 55,
   "metadata": {},
   "outputs": [
    {
     "name": "stdout",
     "output_type": "stream",
     "text": [
      "   Product ID Product Name  Cost  Price  Revenue\n",
      "0           1       Bottle   0.5   0.75     0.25\n",
      "1           2          Cup   0.1   0.25     0.15\n",
      "2           3        Plate   3.0   5.50     2.50\n",
      "3           4        Glass   2.5   3.00     0.50\n"
     ]
    }
   ],
   "source": [
    "df_drop = df.drop('Revenue2',axis=1)\n",
    "print(df_drop)"
   ]
  },
  {
   "cell_type": "code",
   "execution_count": 58,
   "metadata": {},
   "outputs": [
    {
     "name": "stdout",
     "output_type": "stream",
     "text": [
      "   Product ID Product Name  Revenue  Revenue2\n",
      "0           1       Bottle     0.25      0.25\n",
      "1           2          Cup     0.15      0.15\n",
      "2           3        Plate     2.50      2.50\n",
      "3           4        Glass     0.50      0.50\n"
     ]
    }
   ],
   "source": [
    "df_drop2 = df.drop(['Price','Cost'],axis=1)\n",
    "print(df_drop2)"
   ]
  },
  {
   "cell_type": "markdown",
   "metadata": {},
   "source": [
    "### How to drop index in a dataframe?"
   ]
  },
  {
   "cell_type": "code",
   "execution_count": 56,
   "metadata": {},
   "outputs": [
    {
     "name": "stdout",
     "output_type": "stream",
     "text": [
      "   Product ID Product Name  Cost  Price  Revenue  Revenue2\n",
      "1           2          Cup   0.1   0.25     0.15      0.15\n",
      "2           3        Plate   3.0   5.50     2.50      2.50\n",
      "3           4        Glass   2.5   3.00     0.50      0.50\n"
     ]
    }
   ],
   "source": [
    "df_drop_index = df.drop(0)\n",
    "print(df_drop_index)"
   ]
  },
  {
   "cell_type": "code",
   "execution_count": 57,
   "metadata": {},
   "outputs": [
    {
     "name": "stdout",
     "output_type": "stream",
     "text": [
      "   Product ID Product Name  Cost  Price  Revenue  Revenue2\n",
      "0           1       Bottle   0.5   0.75     0.25      0.25\n",
      "2           3        Plate   3.0   5.50     2.50      2.50\n"
     ]
    }
   ],
   "source": [
    "df_drop_index2 = df.drop([1,3])\n",
    "print(df_drop_index2)"
   ]
  },
  {
   "cell_type": "markdown",
   "metadata": {},
   "source": [
    "### How to rename columns?"
   ]
  },
  {
   "cell_type": "code",
   "execution_count": 59,
   "metadata": {},
   "outputs": [
    {
     "name": "stdout",
     "output_type": "stream",
     "text": [
      "   Product ID Product Description  Cost  Price  Revenue  Revenue2\n",
      "0           1              Bottle   0.5   0.75     0.25      0.25\n",
      "1           2                 Cup   0.1   0.25     0.15      0.15\n",
      "2           3               Plate   3.0   5.50     2.50      2.50\n",
      "3           4               Glass   2.5   3.00     0.50      0.50\n"
     ]
    }
   ],
   "source": [
    "#Method 1\n",
    "df.columns = ['Product ID','Product Description','Cost','Price','Revenue','Revenue2']\n",
    "print(df)"
   ]
  },
  {
   "cell_type": "code",
   "execution_count": 61,
   "metadata": {},
   "outputs": [
    {
     "name": "stdout",
     "output_type": "stream",
     "text": [
      "   Product ID Product Description  Cost  Price  Revenue   Rev\n",
      "0           1              Bottle   0.5   0.75     0.25  0.25\n",
      "1           2                 Cup   0.1   0.25     0.15  0.15\n",
      "2           3               Plate   3.0   5.50     2.50  2.50\n",
      "3           4               Glass   2.5   3.00     0.50  0.50\n"
     ]
    }
   ],
   "source": [
    "#Method 2\n",
    "df.rename(columns = {'Revenue2': 'Rev'}, inplace = True)\n",
    "print(df)"
   ]
  },
  {
   "cell_type": "markdown",
   "metadata": {},
   "source": [
    "### How to change the order of the columns?"
   ]
  },
  {
   "cell_type": "code",
   "execution_count": 62,
   "metadata": {},
   "outputs": [
    {
     "name": "stdout",
     "output_type": "stream",
     "text": [
      "   Product ID Product Description  Price  Cost  Revenue   Rev\n",
      "0           1              Bottle   0.75   0.5     0.25  0.25\n",
      "1           2                 Cup   0.25   0.1     0.15  0.15\n",
      "2           3               Plate   5.50   3.0     2.50  2.50\n",
      "3           4               Glass   3.00   2.5     0.50  0.50\n"
     ]
    }
   ],
   "source": [
    "column_names = ['Product ID','Product Description','Price','Cost','Revenue','Rev']\n",
    "df_orderchanged = df.reindex(columns=column_names)\n",
    "print(df_orderchanged)"
   ]
  },
  {
   "cell_type": "markdown",
   "metadata": {},
   "source": [
    "## Some other pandas operations"
   ]
  },
  {
   "cell_type": "markdown",
   "metadata": {},
   "source": [
    "### How to read a csv file?"
   ]
  },
  {
   "cell_type": "code",
   "execution_count": 14,
   "metadata": {},
   "outputs": [
    {
     "data": {
      "text/html": [
       "<div>\n",
       "<style scoped>\n",
       "    .dataframe tbody tr th:only-of-type {\n",
       "        vertical-align: middle;\n",
       "    }\n",
       "\n",
       "    .dataframe tbody tr th {\n",
       "        vertical-align: top;\n",
       "    }\n",
       "\n",
       "    .dataframe thead th {\n",
       "        text-align: right;\n",
       "    }\n",
       "</style>\n",
       "<table border=\"1\" class=\"dataframe\">\n",
       "  <thead>\n",
       "    <tr style=\"text-align: right;\">\n",
       "      <th></th>\n",
       "      <th>id</th>\n",
       "      <th>first_name</th>\n",
       "      <th>last_name</th>\n",
       "      <th>email</th>\n",
       "      <th>item</th>\n",
       "      <th>material</th>\n",
       "      <th>item_color</th>\n",
       "      <th>price</th>\n",
       "    </tr>\n",
       "  </thead>\n",
       "  <tbody>\n",
       "    <tr>\n",
       "      <th>0</th>\n",
       "      <td>1</td>\n",
       "      <td>John</td>\n",
       "      <td>Smith</td>\n",
       "      <td>JohnSmith@abc.com</td>\n",
       "      <td>dress</td>\n",
       "      <td>cotton</td>\n",
       "      <td>black</td>\n",
       "      <td>385</td>\n",
       "    </tr>\n",
       "    <tr>\n",
       "      <th>1</th>\n",
       "      <td>2</td>\n",
       "      <td>Nichi</td>\n",
       "      <td>Baskin</td>\n",
       "      <td>NichiBaskin@abc.com</td>\n",
       "      <td>skirt</td>\n",
       "      <td>fabric</td>\n",
       "      <td>brown</td>\n",
       "      <td>388</td>\n",
       "    </tr>\n",
       "    <tr>\n",
       "      <th>2</th>\n",
       "      <td>3</td>\n",
       "      <td>Abby</td>\n",
       "      <td>Robins</td>\n",
       "      <td>AbbyRobins@abc.com</td>\n",
       "      <td>bag</td>\n",
       "      <td>leather</td>\n",
       "      <td>blue</td>\n",
       "      <td>346</td>\n",
       "    </tr>\n",
       "    <tr>\n",
       "      <th>3</th>\n",
       "      <td>4</td>\n",
       "      <td>Rohit</td>\n",
       "      <td>Sweeney</td>\n",
       "      <td>RohitSweeney@abc.com</td>\n",
       "      <td>sandles</td>\n",
       "      <td>leather</td>\n",
       "      <td>red</td>\n",
       "      <td>344</td>\n",
       "    </tr>\n",
       "    <tr>\n",
       "      <th>4</th>\n",
       "      <td>5</td>\n",
       "      <td>Elena</td>\n",
       "      <td>Matt</td>\n",
       "      <td>ElenaMatt@abc.com</td>\n",
       "      <td>stockings</td>\n",
       "      <td>net</td>\n",
       "      <td>yellow</td>\n",
       "      <td>289</td>\n",
       "    </tr>\n",
       "  </tbody>\n",
       "</table>\n",
       "</div>"
      ],
      "text/plain": [
       "   id first_name last_name                 email       item material  \\\n",
       "0   1       John     Smith     JohnSmith@abc.com      dress   cotton   \n",
       "1   2      Nichi    Baskin   NichiBaskin@abc.com      skirt   fabric   \n",
       "2   3       Abby    Robins    AbbyRobins@abc.com        bag  leather   \n",
       "3   4      Rohit   Sweeney  RohitSweeney@abc.com    sandles  leather   \n",
       "4   5      Elena      Matt     ElenaMatt@abc.com  stockings      net   \n",
       "\n",
       "  item_color  price  \n",
       "0      black    385  \n",
       "1      brown    388  \n",
       "2       blue    346  \n",
       "3        red    344  \n",
       "4     yellow    289  "
      ]
     },
     "execution_count": 14,
     "metadata": {},
     "output_type": "execute_result"
    }
   ],
   "source": [
    "#Read a csv\n",
    "orders = pd.read_csv('orders.csv')\n",
    "orders.head(5)"
   ]
  },
  {
   "cell_type": "markdown",
   "metadata": {},
   "source": [
    "### How to get more information regarding the structure of the dataframe?"
   ]
  },
  {
   "cell_type": "code",
   "execution_count": 7,
   "metadata": {},
   "outputs": [
    {
     "name": "stdout",
     "output_type": "stream",
     "text": [
      "<class 'pandas.core.frame.DataFrame'>\n",
      "RangeIndex: 10 entries, 0 to 9\n",
      "Data columns (total 8 columns):\n",
      " #   Column      Non-Null Count  Dtype \n",
      "---  ------      --------------  ----- \n",
      " 0   id          10 non-null     int64 \n",
      " 1   first_name  10 non-null     object\n",
      " 2   last_name   10 non-null     object\n",
      " 3   email       10 non-null     object\n",
      " 4   item        10 non-null     object\n",
      " 5   material    10 non-null     object\n",
      " 6   item_color  10 non-null     object\n",
      " 7   price       10 non-null     int64 \n",
      "dtypes: int64(2), object(6)\n",
      "memory usage: 768.0+ bytes\n"
     ]
    }
   ],
   "source": [
    "orders.info()"
   ]
  },
  {
   "cell_type": "code",
   "execution_count": 21,
   "metadata": {},
   "outputs": [
    {
     "data": {
      "text/html": [
       "<div>\n",
       "<style scoped>\n",
       "    .dataframe tbody tr th:only-of-type {\n",
       "        vertical-align: middle;\n",
       "    }\n",
       "\n",
       "    .dataframe tbody tr th {\n",
       "        vertical-align: top;\n",
       "    }\n",
       "\n",
       "    .dataframe thead th {\n",
       "        text-align: right;\n",
       "    }\n",
       "</style>\n",
       "<table border=\"1\" class=\"dataframe\">\n",
       "  <thead>\n",
       "    <tr style=\"text-align: right;\">\n",
       "      <th></th>\n",
       "      <th>id</th>\n",
       "      <th>price</th>\n",
       "    </tr>\n",
       "  </thead>\n",
       "  <tbody>\n",
       "    <tr>\n",
       "      <th>count</th>\n",
       "      <td>10.00000</td>\n",
       "      <td>10.000000</td>\n",
       "    </tr>\n",
       "    <tr>\n",
       "      <th>mean</th>\n",
       "      <td>5.50000</td>\n",
       "      <td>336.000000</td>\n",
       "    </tr>\n",
       "    <tr>\n",
       "      <th>std</th>\n",
       "      <td>3.02765</td>\n",
       "      <td>67.164806</td>\n",
       "    </tr>\n",
       "    <tr>\n",
       "      <th>min</th>\n",
       "      <td>1.00000</td>\n",
       "      <td>241.000000</td>\n",
       "    </tr>\n",
       "    <tr>\n",
       "      <th>25%</th>\n",
       "      <td>3.25000</td>\n",
       "      <td>271.750000</td>\n",
       "    </tr>\n",
       "    <tr>\n",
       "      <th>50%</th>\n",
       "      <td>5.50000</td>\n",
       "      <td>345.000000</td>\n",
       "    </tr>\n",
       "    <tr>\n",
       "      <th>75%</th>\n",
       "      <td>7.75000</td>\n",
       "      <td>387.250000</td>\n",
       "    </tr>\n",
       "    <tr>\n",
       "      <th>max</th>\n",
       "      <td>10.00000</td>\n",
       "      <td>440.000000</td>\n",
       "    </tr>\n",
       "  </tbody>\n",
       "</table>\n",
       "</div>"
      ],
      "text/plain": [
       "             id       price\n",
       "count  10.00000   10.000000\n",
       "mean    5.50000  336.000000\n",
       "std     3.02765   67.164806\n",
       "min     1.00000  241.000000\n",
       "25%     3.25000  271.750000\n",
       "50%     5.50000  345.000000\n",
       "75%     7.75000  387.250000\n",
       "max    10.00000  440.000000"
      ]
     },
     "execution_count": 21,
     "metadata": {},
     "output_type": "execute_result"
    }
   ],
   "source": [
    "orders.describe()"
   ]
  },
  {
   "cell_type": "markdown",
   "metadata": {},
   "source": [
    "### How to change the datatype of a column?"
   ]
  },
  {
   "cell_type": "code",
   "execution_count": 19,
   "metadata": {},
   "outputs": [
    {
     "data": {
      "text/plain": [
       "CategoricalDtype(categories=['cotton', 'fabric', 'glass', 'leather', 'net', 'wood'], ordered=False)"
      ]
     },
     "execution_count": 19,
     "metadata": {},
     "output_type": "execute_result"
    }
   ],
   "source": [
    "#change the data type of the column\n",
    "orders['material'] = orders.material.astype('category')\n",
    "\n",
    "#check the data type of the column\n",
    "orders.material.dtypes"
   ]
  },
  {
   "cell_type": "code",
   "execution_count": 20,
   "metadata": {},
   "outputs": [
    {
     "data": {
      "text/plain": [
       "Index(['cotton', 'fabric', 'glass', 'leather', 'net', 'wood'], dtype='object')"
      ]
     },
     "execution_count": 20,
     "metadata": {},
     "output_type": "execute_result"
    }
   ],
   "source": [
    "#to see unique values of categories (factors or levels)\n",
    "orders.material.cat.categories"
   ]
  },
  {
   "cell_type": "markdown",
   "metadata": {},
   "source": [
    "### How to subset a dataframe?"
   ]
  },
  {
   "cell_type": "code",
   "execution_count": 6,
   "metadata": {},
   "outputs": [
    {
     "data": {
      "text/html": [
       "<div>\n",
       "<style scoped>\n",
       "    .dataframe tbody tr th:only-of-type {\n",
       "        vertical-align: middle;\n",
       "    }\n",
       "\n",
       "    .dataframe tbody tr th {\n",
       "        vertical-align: top;\n",
       "    }\n",
       "\n",
       "    .dataframe thead th {\n",
       "        text-align: right;\n",
       "    }\n",
       "</style>\n",
       "<table border=\"1\" class=\"dataframe\">\n",
       "  <thead>\n",
       "    <tr style=\"text-align: right;\">\n",
       "      <th></th>\n",
       "      <th>first_name</th>\n",
       "      <th>last_name</th>\n",
       "      <th>email</th>\n",
       "    </tr>\n",
       "  </thead>\n",
       "  <tbody>\n",
       "    <tr>\n",
       "      <th>0</th>\n",
       "      <td>John</td>\n",
       "      <td>Smith</td>\n",
       "      <td>JohnSmith@abc.com</td>\n",
       "    </tr>\n",
       "    <tr>\n",
       "      <th>1</th>\n",
       "      <td>Nichi</td>\n",
       "      <td>Baskin</td>\n",
       "      <td>NichiBaskin@abc.com</td>\n",
       "    </tr>\n",
       "    <tr>\n",
       "      <th>2</th>\n",
       "      <td>Abby</td>\n",
       "      <td>Robins</td>\n",
       "      <td>AbbyRobins@abc.com</td>\n",
       "    </tr>\n",
       "    <tr>\n",
       "      <th>3</th>\n",
       "      <td>Rohit</td>\n",
       "      <td>Sweeney</td>\n",
       "      <td>RohitSweeney@abc.com</td>\n",
       "    </tr>\n",
       "    <tr>\n",
       "      <th>4</th>\n",
       "      <td>Elena</td>\n",
       "      <td>Matt</td>\n",
       "      <td>ElenaMatt@abc.com</td>\n",
       "    </tr>\n",
       "  </tbody>\n",
       "</table>\n",
       "</div>"
      ],
      "text/plain": [
       "  first_name last_name                 email\n",
       "0       John     Smith     JohnSmith@abc.com\n",
       "1      Nichi    Baskin   NichiBaskin@abc.com\n",
       "2       Abby    Robins    AbbyRobins@abc.com\n",
       "3      Rohit   Sweeney  RohitSweeney@abc.com\n",
       "4      Elena      Matt     ElenaMatt@abc.com"
      ]
     },
     "execution_count": 6,
     "metadata": {},
     "output_type": "execute_result"
    }
   ],
   "source": [
    "#Subsetting dataframe\n",
    "subset1 = orders[:][['first_name','last_name','email']]\n",
    "subset1.head()"
   ]
  },
  {
   "cell_type": "markdown",
   "metadata": {},
   "source": [
    "### How to choose columns based on conditions?"
   ]
  },
  {
   "cell_type": "code",
   "execution_count": 67,
   "metadata": {},
   "outputs": [
    {
     "name": "stdout",
     "output_type": "stream",
     "text": [
      "440\n"
     ]
    }
   ],
   "source": [
    "#Most expensive order\n",
    "most_expensive = orders.price.max()\n",
    "print(most_expensive)"
   ]
  },
  {
   "cell_type": "code",
   "execution_count": 71,
   "metadata": {},
   "outputs": [
    {
     "data": {
      "text/html": [
       "<div>\n",
       "<style scoped>\n",
       "    .dataframe tbody tr th:only-of-type {\n",
       "        vertical-align: middle;\n",
       "    }\n",
       "\n",
       "    .dataframe tbody tr th {\n",
       "        vertical-align: top;\n",
       "    }\n",
       "\n",
       "    .dataframe thead th {\n",
       "        text-align: right;\n",
       "    }\n",
       "</style>\n",
       "<table border=\"1\" class=\"dataframe\">\n",
       "  <thead>\n",
       "    <tr style=\"text-align: right;\">\n",
       "      <th></th>\n",
       "      <th>id</th>\n",
       "      <th>first_name</th>\n",
       "      <th>last_name</th>\n",
       "      <th>email</th>\n",
       "      <th>item</th>\n",
       "      <th>material</th>\n",
       "      <th>item_color</th>\n",
       "      <th>price</th>\n",
       "    </tr>\n",
       "  </thead>\n",
       "  <tbody>\n",
       "    <tr>\n",
       "      <th>9</th>\n",
       "      <td>10</td>\n",
       "      <td>Carol</td>\n",
       "      <td>Mclovin</td>\n",
       "      <td>CarolMclovin@abc.com</td>\n",
       "      <td>anklet</td>\n",
       "      <td>glass</td>\n",
       "      <td>brown</td>\n",
       "      <td>440</td>\n",
       "    </tr>\n",
       "  </tbody>\n",
       "</table>\n",
       "</div>"
      ],
      "text/plain": [
       "   id first_name last_name                 email    item material item_color  \\\n",
       "9  10      Carol   Mclovin  CarolMclovin@abc.com  anklet    glass      brown   \n",
       "\n",
       "   price  \n",
       "9    440  "
      ]
     },
     "execution_count": 71,
     "metadata": {},
     "output_type": "execute_result"
    }
   ],
   "source": [
    "orders[orders.price==orders.price.max()]"
   ]
  },
  {
   "cell_type": "code",
   "execution_count": 72,
   "metadata": {},
   "outputs": [
    {
     "data": {
      "text/html": [
       "<div>\n",
       "<style scoped>\n",
       "    .dataframe tbody tr th:only-of-type {\n",
       "        vertical-align: middle;\n",
       "    }\n",
       "\n",
       "    .dataframe tbody tr th {\n",
       "        vertical-align: top;\n",
       "    }\n",
       "\n",
       "    .dataframe thead th {\n",
       "        text-align: right;\n",
       "    }\n",
       "</style>\n",
       "<table border=\"1\" class=\"dataframe\">\n",
       "  <thead>\n",
       "    <tr style=\"text-align: right;\">\n",
       "      <th></th>\n",
       "      <th>id</th>\n",
       "      <th>first_name</th>\n",
       "      <th>last_name</th>\n",
       "      <th>email</th>\n",
       "      <th>item</th>\n",
       "      <th>material</th>\n",
       "      <th>item_color</th>\n",
       "      <th>price</th>\n",
       "    </tr>\n",
       "  </thead>\n",
       "  <tbody>\n",
       "    <tr>\n",
       "      <th>7</th>\n",
       "      <td>8</td>\n",
       "      <td>Justin</td>\n",
       "      <td>Hardinge</td>\n",
       "      <td>JustinHardinge@abc.com</td>\n",
       "      <td>pumps</td>\n",
       "      <td>wood</td>\n",
       "      <td>white</td>\n",
       "      <td>241</td>\n",
       "    </tr>\n",
       "  </tbody>\n",
       "</table>\n",
       "</div>"
      ],
      "text/plain": [
       "   id first_name last_name                   email   item material item_color  \\\n",
       "7   8     Justin  Hardinge  JustinHardinge@abc.com  pumps     wood      white   \n",
       "\n",
       "   price  \n",
       "7    241  "
      ]
     },
     "execution_count": 72,
     "metadata": {},
     "output_type": "execute_result"
    }
   ],
   "source": [
    "#Least expensive order\n",
    "orders[orders.price==orders.price.min()]"
   ]
  },
  {
   "cell_type": "code",
   "execution_count": 74,
   "metadata": {},
   "outputs": [
    {
     "data": {
      "text/plain": [
       "7    Justin\n",
       "Name: first_name, dtype: object"
      ]
     },
     "execution_count": 74,
     "metadata": {},
     "output_type": "execute_result"
    }
   ],
   "source": [
    "#Choosing a column based on a condition\n",
    "orders['first_name'][orders.price==orders.price.min()]"
   ]
  },
  {
   "cell_type": "code",
   "execution_count": 77,
   "metadata": {},
   "outputs": [
    {
     "name": "stdout",
     "output_type": "stream",
     "text": [
      "10\n",
      "6\n"
     ]
    }
   ],
   "source": [
    "#Finding the number of unique items\n",
    "num_unique_items = orders.item.nunique()\n",
    "print(num_unique_items)\n",
    "num_unique_materials = orders.material.nunique()\n",
    "print(num_unique_materials)"
   ]
  },
  {
   "cell_type": "markdown",
   "metadata": {},
   "source": [
    "### How to add columns?"
   ]
  },
  {
   "cell_type": "code",
   "execution_count": 79,
   "metadata": {},
   "outputs": [
    {
     "name": "stdout",
     "output_type": "stream",
     "text": [
      "   id first_name last_name                   email       item material  \\\n",
      "0   1       John     Smith       JohnSmith@abc.com      dress   cotton   \n",
      "1   2      Nichi    Baskin     NichiBaskin@abc.com      skirt   fabric   \n",
      "2   3       Abby    Robins      AbbyRobins@abc.com        bag  leather   \n",
      "3   4      Rohit   Sweeney    RohitSweeney@abc.com    sandles  leather   \n",
      "4   5      Elena      Matt       ElenaMatt@abc.com  stockings      net   \n",
      "5   6      Jammy     Singh      JammySingh@abc.com   hairband   fabric   \n",
      "6   7       Omar      Khan        OmarKhan@abc.com    bangles    glass   \n",
      "7   8     Justin  Hardinge  JustinHardinge@abc.com      pumps     wood   \n",
      "8   9      Steph      King       StephKing@abc.com   slippers  leather   \n",
      "9  10      Carol   Mclovin    CarolMclovin@abc.com     anklet    glass   \n",
      "\n",
      "  item_color  price Gender  \n",
      "0      black    385      M  \n",
      "1      brown    388      F  \n",
      "2       blue    346      M  \n",
      "3        red    344     NB  \n",
      "4     yellow    289      F  \n",
      "5       pink    266     NB  \n",
      "6      black    395      M  \n",
      "7      white    241      F  \n",
      "8        red    266     NB  \n",
      "9      brown    440      F  \n"
     ]
    }
   ],
   "source": [
    "#Adding column gender\n",
    "orders['Gender'] = ['M','F','M','NB','F','NB','M','F','NB','F']\n",
    "print(orders)"
   ]
  },
  {
   "cell_type": "code",
   "execution_count": 82,
   "metadata": {},
   "outputs": [
    {
     "name": "stdout",
     "output_type": "stream",
     "text": [
      "   id first_name last_name                   email       item material  \\\n",
      "0   1       John     Smith       JohnSmith@abc.com      dress   cotton   \n",
      "1   2      Nichi    Baskin     NichiBaskin@abc.com      skirt   fabric   \n",
      "2   3       Abby    Robins      AbbyRobins@abc.com        bag  leather   \n",
      "3   4      Rohit   Sweeney    RohitSweeney@abc.com    sandles  leather   \n",
      "4   5      Elena      Matt       ElenaMatt@abc.com  stockings      net   \n",
      "5   6      Jammy     Singh      JammySingh@abc.com   hairband   fabric   \n",
      "6   7       Omar      Khan        OmarKhan@abc.com    bangles    glass   \n",
      "7   8     Justin  Hardinge  JustinHardinge@abc.com      pumps     wood   \n",
      "8   9      Steph      King       StephKing@abc.com   slippers  leather   \n",
      "9  10      Carol   Mclovin    CarolMclovin@abc.com     anklet    glass   \n",
      "\n",
      "  item_color  price Gender Gender_full  \n",
      "0      black    385      M        Male  \n",
      "1      brown    388      F      Female  \n",
      "2       blue    346      M        Male  \n",
      "3        red    344     NB  Non-Binary  \n",
      "4     yellow    289      F      Female  \n",
      "5       pink    266     NB  Non-Binary  \n",
      "6      black    395      M        Male  \n",
      "7      white    241      F      Female  \n",
      "8        red    266     NB  Non-Binary  \n",
      "9      brown    440      F      Female  \n"
     ]
    }
   ],
   "source": [
    "#Column transformation using lambda function\n",
    "orders['Gender_full'] = orders.Gender.apply(lambda x: 'Female' if x == 'F' else ('Male' if x=='M' else 'Non-Binary'))\n",
    "print(orders)"
   ]
  },
  {
   "cell_type": "code",
   "execution_count": 86,
   "metadata": {},
   "outputs": [
    {
     "name": "stdout",
     "output_type": "stream",
     "text": [
      "   id first_name last_name                   email       item material  \\\n",
      "0   1       John     Smith       JohnSmith@abc.com      dress   cotton   \n",
      "1   2      Nichi    Baskin     NichiBaskin@abc.com      skirt   fabric   \n",
      "2   3       Abby    Robins      AbbyRobins@abc.com        bag  leather   \n",
      "3   4      Rohit   Sweeney    RohitSweeney@abc.com    sandles  leather   \n",
      "4   5      Elena      Matt       ElenaMatt@abc.com  stockings      net   \n",
      "5   6      Jammy     Singh      JammySingh@abc.com   hairband   fabric   \n",
      "6   7       Omar      Khan        OmarKhan@abc.com    bangles    glass   \n",
      "7   8     Justin  Hardinge  JustinHardinge@abc.com      pumps     wood   \n",
      "8   9      Steph      King       StephKing@abc.com   slippers  leather   \n",
      "9  10      Carol   Mclovin    CarolMclovin@abc.com     anklet    glass   \n",
      "\n",
      "  item_color  price Gender Gender_full         Title  \n",
      "0      black    385      M        Male     Mr. Smith  \n",
      "1      brown    388      F      Female    Ms. Baskin  \n",
      "2       blue    346      M        Male    Mr. Robins  \n",
      "3        red    344     NB  Non-Binary   Mx. Sweeney  \n",
      "4     yellow    289      F      Female      Ms. Matt  \n",
      "5       pink    266     NB  Non-Binary     Mx. Singh  \n",
      "6      black    395      M        Male      Mr. Khan  \n",
      "7      white    241      F      Female  Ms. Hardinge  \n",
      "8        red    266     NB  Non-Binary      Mx. King  \n",
      "9      brown    440      F      Female   Ms. Mclovin  \n"
     ]
    }
   ],
   "source": [
    "#Row transformation using lambda function\n",
    "orders['Title'] = orders.apply(lambda row: 'Ms. ' + row['last_name']\n",
    "                                    if row['Gender'] == 'F' else\n",
    "                                    ('Mr. ' + row['last_name'] if row['Gender'] == 'M' else 'Mx. '+ row['last_name']),\n",
    "                                    axis=1)\n",
    "print(orders)"
   ]
  },
  {
   "cell_type": "markdown",
   "metadata": {},
   "source": [
    "### How to perform aggregations?"
   ]
  },
  {
   "cell_type": "code",
   "execution_count": 87,
   "metadata": {},
   "outputs": [
    {
     "name": "stdout",
     "output_type": "stream",
     "text": [
      "material\n",
      "cotton     385\n",
      "fabric     654\n",
      "glass      835\n",
      "leather    956\n",
      "net        289\n",
      "wood       241\n",
      "Name: price, dtype: int64\n",
      "<class 'pandas.core.series.Series'>\n"
     ]
    }
   ],
   "source": [
    "#Performing aggregations\n",
    "totprice_material = orders.groupby('material').price.sum()\n",
    "print(totprice_material)\n",
    "print(type(totprice_material))"
   ]
  },
  {
   "cell_type": "code",
   "execution_count": 89,
   "metadata": {},
   "outputs": [
    {
     "name": "stdout",
     "output_type": "stream",
     "text": [
      "  material  price\n",
      "0   cotton    385\n",
      "1   fabric    388\n",
      "2    glass    440\n",
      "3  leather    346\n",
      "4      net    289\n",
      "5     wood    241\n",
      "<class 'pandas.core.frame.DataFrame'>\n"
     ]
    }
   ],
   "source": [
    "maxprice_material = orders.groupby('material').price.max().reset_index()\n",
    "print(maxprice_material)\n",
    "print(type(maxprice_material))"
   ]
  },
  {
   "cell_type": "code",
   "execution_count": 90,
   "metadata": {},
   "outputs": [
    {
     "name": "stdout",
     "output_type": "stream",
     "text": [
      "        item material  id\n",
      "0     anklet    glass   1\n",
      "1        bag  leather   1\n",
      "2    bangles    glass   1\n",
      "3      dress   cotton   1\n",
      "4   hairband   fabric   1\n",
      "5      pumps     wood   1\n",
      "6    sandles  leather   1\n",
      "7      skirt   fabric   1\n",
      "8   slippers  leather   1\n",
      "9  stockings      net   1\n"
     ]
    }
   ],
   "source": [
    "item_counts = orders.groupby(['item','material']).id.count().reset_index()\n",
    "print(item_counts)"
   ]
  },
  {
   "cell_type": "code",
   "execution_count": 91,
   "metadata": {},
   "outputs": [
    {
     "name": "stdout",
     "output_type": "stream",
     "text": [
      "  item_color material  id\n",
      "0      black   cotton   1\n",
      "1      black    glass   1\n",
      "2       blue  leather   1\n",
      "3      brown   fabric   1\n",
      "4      brown    glass   1\n",
      "5       pink   fabric   1\n",
      "6        red  leather   2\n",
      "7      white     wood   1\n",
      "8     yellow      net   1\n"
     ]
    }
   ],
   "source": [
    "color_counts = orders.groupby(['item_color','material']).id.count().reset_index()\n",
    "print(color_counts)"
   ]
  },
  {
   "cell_type": "code",
   "execution_count": null,
   "metadata": {},
   "outputs": [],
   "source": []
  }
 ],
 "metadata": {
  "kernelspec": {
   "display_name": "Python 3",
   "language": "python",
   "name": "python3"
  },
  "language_info": {
   "codemirror_mode": {
    "name": "ipython",
    "version": 3
   },
   "file_extension": ".py",
   "mimetype": "text/x-python",
   "name": "python",
   "nbconvert_exporter": "python",
   "pygments_lexer": "ipython3",
   "version": "3.8.5"
  }
 },
 "nbformat": 4,
 "nbformat_minor": 4
}
